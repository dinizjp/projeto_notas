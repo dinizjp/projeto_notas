{
 "cells": [
  {
   "cell_type": "code",
   "execution_count": 8,
   "id": "38ddb13b-60a7-4914-958f-6495c982961b",
   "metadata": {
    "tags": []
   },
   "outputs": [],
   "source": [
    "import fitz  # PyMuPDF\n",
    "import pandas as pd\n",
    "import re  # Módulo de expressões regulares\n"
   ]
  },
  {
   "cell_type": "code",
   "execution_count": 9,
   "id": "55b22399-7c65-4c52-bb51-5efce8f148bd",
   "metadata": {
    "tags": []
   },
   "outputs": [],
   "source": [
    "def extrair_informacoes(pdf_path):\n",
    "    doc = fitz.open(pdf_path)\n",
    "    dados_faturas = []\n",
    "\n",
    "    for pagina in doc:\n",
    "        texto = pagina.get_text()\n",
    "\n",
    "        # IDENTIFICAÇÃO DO EMITENTE\n",
    "        identificacao_emitente_match = re.search(r\"IDENTIFICAÇÃO DO EMITENTE[\\s\\S]*?(\\n.+)\", texto)\n",
    "        identificacao_emitente = identificacao_emitente_match.group(1).strip() if identificacao_emitente_match else \"Não encontrado\"\n",
    "\n",
    "        # Tentar extrair FATURA / DUPLICATA\n",
    "        faturas_matches = re.findall(r\"Vencimento:\\s(\\d{2}/\\d{2}/\\d{4})[\\s\\S]*?Valor:\\sR\\$\\s([\\d.]*\\,\\d{2})\", texto)\n",
    "\n",
    "        if faturas_matches:\n",
    "            for data, valor in faturas_matches:\n",
    "                valor_formatado = valor.replace(\".\", \"\").replace(\",\", \".\")\n",
    "                dados_faturas.append({\n",
    "                    \"IDENTIFICAÇÃO DO EMITENTE\": identificacao_emitente,\n",
    "                    \"Data da fatura\": data,\n",
    "                    \"Valor\": valor_formatado\n",
    "                })\n",
    "        else:\n",
    "            # Se não encontrar FATURA / DUPLICATA, procura DATA DE EMISSÃO e VALOR TOTAL DA NOTA\n",
    "            data_emissao_match = re.search(r\"DATA DE EMISSÃO[\\s\\S]*?(\\d{2}/\\d{2}/\\d{4})\", texto)\n",
    "            data_emissao = data_emissao_match.group(1) if data_emissao_match else \"Não disponível\"\n",
    "            \n",
    "            # Expressão regular ajustada para captura do valor no formato \"2.681,42\"\n",
    "            valor_total_nota_match = re.search(r\"VALOR TOTAL DA NOTA[\\s\\S]*?([\\d.]+,\\d{2})\", texto)\n",
    "            if valor_total_nota_match:\n",
    "                valor_total = valor_total_nota_match.group(1).replace(\".\", \"\").replace(\",\", \".\")\n",
    "                dados_faturas.append({\n",
    "                    \"IDENTIFICAÇÃO DO EMITENTE\": identificacao_emitente,\n",
    "                    \"Data da fatura\": data_emissao,\n",
    "                    \"Valor\": valor_total\n",
    "                })\n",
    "\n",
    "    return dados_faturas\n"
   ]
  },
  {
   "cell_type": "code",
   "execution_count": 10,
   "id": "0dc711d6-9275-4cd3-a878-d19de0ee1e50",
   "metadata": {
    "tags": []
   },
   "outputs": [
    {
     "name": "stdout",
     "output_type": "stream",
     "text": [
      "Dados exportados para C:/Users/Administrativo/Downloads/notas.xlsx com sucesso.\n"
     ]
    }
   ],
   "source": [
    "# Caminho para o seu arquivo PDF\n",
    "pdf_path = \"C:/Users/Administrativo/Downloads/nota_test.pdf\"\n",
    "\n",
    "# Extrair informações\n",
    "dados_faturas = extrair_informacoes(pdf_path)\n",
    "\n",
    "# Converter para DataFrame\n",
    "df = pd.DataFrame(dados_faturas)\n",
    "\n",
    "# Corrigindo o tipo de dado para 'Valor'\n",
    "df[\"Valor\"] = df[\"Valor\"].astype(float)\n",
    "\n",
    "# Exportar para Excel\n",
    "nome_arquivo_excel = \"C:/Users/Administrativo/Downloads/notas.xlsx\"\n",
    "df.to_excel(nome_arquivo_excel, index=False, float_format=\"%.2f\")\n",
    "\n",
    "print(f\"Dados exportados para {nome_arquivo_excel} com sucesso.\")"
   ]
  },
  {
   "cell_type": "code",
   "execution_count": null,
   "id": "518dc2ae-ada6-412f-ae67-470316144876",
   "metadata": {},
   "outputs": [],
   "source": []
  }
 ],
 "metadata": {
  "kernelspec": {
   "display_name": "Python 3 (ipykernel)",
   "language": "python",
   "name": "python3"
  },
  "language_info": {
   "codemirror_mode": {
    "name": "ipython",
    "version": 3
   },
   "file_extension": ".py",
   "mimetype": "text/x-python",
   "name": "python",
   "nbconvert_exporter": "python",
   "pygments_lexer": "ipython3",
   "version": "3.11.5"
  }
 },
 "nbformat": 4,
 "nbformat_minor": 5
}
